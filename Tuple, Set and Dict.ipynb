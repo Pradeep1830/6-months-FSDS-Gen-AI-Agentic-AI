{
 "cells": [
  {
   "cell_type": "markdown",
   "id": "c8bc8e7e",
   "metadata": {},
   "source": [
    "# Tuple"
   ]
  },
  {
   "cell_type": "code",
   "execution_count": 3,
   "id": "57e08680",
   "metadata": {},
   "outputs": [],
   "source": [
    "t1=()"
   ]
  },
  {
   "cell_type": "code",
   "execution_count": 4,
   "id": "4a1b5119",
   "metadata": {},
   "outputs": [],
   "source": [
    "t2=(10,20,30)"
   ]
  },
  {
   "cell_type": "code",
   "execution_count": 5,
   "id": "9ac4ccf6",
   "metadata": {},
   "outputs": [],
   "source": [
    "t3 = (10.77,30.66,60.89) "
   ]
  },
  {
   "cell_type": "code",
   "execution_count": 6,
   "id": "28564566",
   "metadata": {},
   "outputs": [],
   "source": [
    "t4 = ('one','two' , \"three\") "
   ]
  },
  {
   "cell_type": "code",
   "execution_count": 7,
   "id": "1e9fd00b",
   "metadata": {},
   "outputs": [],
   "source": [
    "t5 = ('Asif', 25 ,(50, 100),(150, 90)) "
   ]
  },
  {
   "cell_type": "code",
   "execution_count": 8,
   "id": "1665eb90",
   "metadata": {},
   "outputs": [],
   "source": [
    "t6 = (100, 'Asif', 17.765)"
   ]
  },
  {
   "cell_type": "code",
   "execution_count": 9,
   "id": "3a420561",
   "metadata": {},
   "outputs": [],
   "source": [
    "t7 = ('Asif', 25 ,[50, 100],[150, 90] , {'John' , 'David'} , (99,22,33))"
   ]
  },
  {
   "cell_type": "code",
   "execution_count": 10,
   "id": "f7903324",
   "metadata": {},
   "outputs": [
    {
     "data": {
      "text/plain": [
       "6"
      ]
     },
     "execution_count": 10,
     "metadata": {},
     "output_type": "execute_result"
    }
   ],
   "source": [
    "len(t7)"
   ]
  },
  {
   "cell_type": "markdown",
   "id": "1c1722a0",
   "metadata": {},
   "source": [
    "# Tuple Indexing "
   ]
  },
  {
   "cell_type": "code",
   "execution_count": 11,
   "id": "0d011d7e",
   "metadata": {},
   "outputs": [
    {
     "data": {
      "text/plain": [
       "10"
      ]
     },
     "execution_count": 11,
     "metadata": {},
     "output_type": "execute_result"
    }
   ],
   "source": [
    "t2[0]"
   ]
  },
  {
   "cell_type": "code",
   "execution_count": 12,
   "id": "378f0654",
   "metadata": {},
   "outputs": [
    {
     "data": {
      "text/plain": [
       "'one'"
      ]
     },
     "execution_count": 12,
     "metadata": {},
     "output_type": "execute_result"
    }
   ],
   "source": [
    "t4[0]"
   ]
  },
  {
   "cell_type": "code",
   "execution_count": 13,
   "id": "de985696",
   "metadata": {},
   "outputs": [
    {
     "data": {
      "text/plain": [
       "'o'"
      ]
     },
     "execution_count": 13,
     "metadata": {},
     "output_type": "execute_result"
    }
   ],
   "source": [
    "t4[0][0]"
   ]
  },
  {
   "cell_type": "code",
   "execution_count": 14,
   "id": "be248053",
   "metadata": {},
   "outputs": [
    {
     "data": {
      "text/plain": [
       "'three'"
      ]
     },
     "execution_count": 14,
     "metadata": {},
     "output_type": "execute_result"
    }
   ],
   "source": [
    "t4[-1]"
   ]
  },
  {
   "cell_type": "code",
   "execution_count": 15,
   "id": "a294597b",
   "metadata": {},
   "outputs": [
    {
     "data": {
      "text/plain": [
       "(150, 90)"
      ]
     },
     "execution_count": 15,
     "metadata": {},
     "output_type": "execute_result"
    }
   ],
   "source": [
    "t5[-1]"
   ]
  },
  {
   "cell_type": "markdown",
   "id": "033f1502",
   "metadata": {},
   "source": [
    "# Tuple Slicing "
   ]
  },
  {
   "cell_type": "code",
   "execution_count": 17,
   "id": "f1a8bfd8",
   "metadata": {},
   "outputs": [],
   "source": [
    "mytuple = ('one' , 'two' , 'three' , 'four' , 'five' , 'six' , 'seven' , 'eight')"
   ]
  },
  {
   "cell_type": "code",
   "execution_count": 18,
   "id": "18d3fac2",
   "metadata": {},
   "outputs": [
    {
     "data": {
      "text/plain": [
       "('one', 'two', 'three')"
      ]
     },
     "execution_count": 18,
     "metadata": {},
     "output_type": "execute_result"
    }
   ],
   "source": [
    "mytuple[0:3] "
   ]
  },
  {
   "cell_type": "code",
   "execution_count": 19,
   "id": "d45e7f5e",
   "metadata": {},
   "outputs": [
    {
     "data": {
      "text/plain": [
       "('three', 'four', 'five')"
      ]
     },
     "execution_count": 19,
     "metadata": {},
     "output_type": "execute_result"
    }
   ],
   "source": [
    "mytuple[2:5] "
   ]
  },
  {
   "cell_type": "code",
   "execution_count": 20,
   "id": "96ef8112",
   "metadata": {},
   "outputs": [
    {
     "data": {
      "text/plain": [
       "('one', 'two', 'three')"
      ]
     },
     "execution_count": 20,
     "metadata": {},
     "output_type": "execute_result"
    }
   ],
   "source": [
    "mytuple[:3]"
   ]
  },
  {
   "cell_type": "code",
   "execution_count": 21,
   "id": "2773434c",
   "metadata": {},
   "outputs": [
    {
     "data": {
      "text/plain": [
       "('six', 'seven', 'eight')"
      ]
     },
     "execution_count": 21,
     "metadata": {},
     "output_type": "execute_result"
    }
   ],
   "source": [
    "mytuple[-3:]"
   ]
  },
  {
   "cell_type": "code",
   "execution_count": 22,
   "id": "09d64d6c",
   "metadata": {},
   "outputs": [
    {
     "data": {
      "text/plain": [
       "('one', 'two', 'three', 'four', 'five', 'six', 'seven', 'eight')"
      ]
     },
     "execution_count": 22,
     "metadata": {},
     "output_type": "execute_result"
    }
   ],
   "source": [
    "mytuple[:] "
   ]
  },
  {
   "cell_type": "markdown",
   "id": "d26160cf",
   "metadata": {},
   "source": [
    "# Remove & Change Items"
   ]
  },
  {
   "cell_type": "code",
   "execution_count": 23,
   "id": "2b328b4f",
   "metadata": {},
   "outputs": [
    {
     "data": {
      "text/plain": [
       "('one', 'two', 'three', 'four', 'five', 'six', 'seven', 'eight')"
      ]
     },
     "execution_count": 23,
     "metadata": {},
     "output_type": "execute_result"
    }
   ],
   "source": [
    "mytuple"
   ]
  },
  {
   "cell_type": "code",
   "execution_count": 24,
   "id": "a1c95de2",
   "metadata": {},
   "outputs": [],
   "source": [
    "del mytuple"
   ]
  },
  {
   "cell_type": "code",
   "execution_count": 25,
   "id": "249269b2",
   "metadata": {},
   "outputs": [],
   "source": [
    "mytuple = ('one', 'two', 'three', 'four', 'five', 'six', 'seven', 'eight') "
   ]
  },
  {
   "cell_type": "code",
   "execution_count": 26,
   "id": "3a14fc0c",
   "metadata": {},
   "outputs": [
    {
     "data": {
      "text/plain": [
       "('one', 'two', 'three', 'four', 'five', 'six', 'seven', 'eight')"
      ]
     },
     "execution_count": 26,
     "metadata": {},
     "output_type": "execute_result"
    }
   ],
   "source": [
    "mytuple"
   ]
  },
  {
   "cell_type": "markdown",
   "id": "b87cbbef",
   "metadata": {},
   "source": [
    "# Loop through a tuple "
   ]
  },
  {
   "cell_type": "code",
   "execution_count": 27,
   "id": "81015104",
   "metadata": {},
   "outputs": [
    {
     "data": {
      "text/plain": [
       "('one', 'two', 'three', 'four', 'five', 'six', 'seven', 'eight')"
      ]
     },
     "execution_count": 27,
     "metadata": {},
     "output_type": "execute_result"
    }
   ],
   "source": [
    "mytuple"
   ]
  },
  {
   "cell_type": "code",
   "execution_count": 29,
   "id": "e6053ce9",
   "metadata": {},
   "outputs": [
    {
     "name": "stdout",
     "output_type": "stream",
     "text": [
      "one\n",
      "two\n",
      "three\n",
      "four\n",
      "five\n",
      "six\n",
      "seven\n",
      "eight\n"
     ]
    }
   ],
   "source": [
    "for i in mytuple:\n",
    "    print(i)"
   ]
  },
  {
   "cell_type": "code",
   "execution_count": 30,
   "id": "dcaccbc0",
   "metadata": {},
   "outputs": [
    {
     "name": "stdout",
     "output_type": "stream",
     "text": [
      "(0, 'one')\n",
      "(1, 'two')\n",
      "(2, 'three')\n",
      "(3, 'four')\n",
      "(4, 'five')\n",
      "(5, 'six')\n",
      "(6, 'seven')\n",
      "(7, 'eight')\n"
     ]
    }
   ],
   "source": [
    "for i in enumerate(mytuple):\n",
    "    print(i)"
   ]
  },
  {
   "cell_type": "markdown",
   "id": "f00d5113",
   "metadata": {},
   "source": [
    "# Count "
   ]
  },
  {
   "cell_type": "code",
   "execution_count": 31,
   "id": "3b8b147f",
   "metadata": {},
   "outputs": [],
   "source": [
    "mytuple1 =('one', 'two', 'three', 'four', 'one', 'one', 'two', 'three') "
   ]
  },
  {
   "cell_type": "code",
   "execution_count": 32,
   "id": "22e0a537",
   "metadata": {},
   "outputs": [
    {
     "data": {
      "text/plain": [
       "3"
      ]
     },
     "execution_count": 32,
     "metadata": {},
     "output_type": "execute_result"
    }
   ],
   "source": [
    "mytuple1.count('one')"
   ]
  },
  {
   "cell_type": "code",
   "execution_count": 33,
   "id": "6288d1fc",
   "metadata": {},
   "outputs": [
    {
     "data": {
      "text/plain": [
       "2"
      ]
     },
     "execution_count": 33,
     "metadata": {},
     "output_type": "execute_result"
    }
   ],
   "source": [
    "mytuple1.count('two')"
   ]
  },
  {
   "cell_type": "markdown",
   "id": "01a59603",
   "metadata": {},
   "source": [
    "# Tuple Membership "
   ]
  },
  {
   "cell_type": "code",
   "execution_count": 34,
   "id": "c3708b89",
   "metadata": {},
   "outputs": [
    {
     "data": {
      "text/plain": [
       "('one', 'two', 'three', 'four', 'five', 'six', 'seven', 'eight')"
      ]
     },
     "execution_count": 34,
     "metadata": {},
     "output_type": "execute_result"
    }
   ],
   "source": [
    "mytuple"
   ]
  },
  {
   "cell_type": "code",
   "execution_count": 35,
   "id": "8116a6f8",
   "metadata": {},
   "outputs": [
    {
     "data": {
      "text/plain": [
       "True"
      ]
     },
     "execution_count": 35,
     "metadata": {},
     "output_type": "execute_result"
    }
   ],
   "source": [
    "'one' in mytuple"
   ]
  },
  {
   "cell_type": "code",
   "execution_count": 36,
   "id": "8d1c6205",
   "metadata": {},
   "outputs": [
    {
     "data": {
      "text/plain": [
       "True"
      ]
     },
     "execution_count": 36,
     "metadata": {},
     "output_type": "execute_result"
    }
   ],
   "source": [
    "'five' in mytuple"
   ]
  },
  {
   "cell_type": "code",
   "execution_count": 37,
   "id": "6596b958",
   "metadata": {},
   "outputs": [
    {
     "data": {
      "text/plain": [
       "False"
      ]
     },
     "execution_count": 37,
     "metadata": {},
     "output_type": "execute_result"
    }
   ],
   "source": [
    "'ten' in mytuple"
   ]
  },
  {
   "cell_type": "code",
   "execution_count": 38,
   "id": "11b4dcd5",
   "metadata": {},
   "outputs": [
    {
     "name": "stdout",
     "output_type": "stream",
     "text": [
      "three is present in the tuple\n"
     ]
    }
   ],
   "source": [
    "if 'three' in mytuple:\n",
    "    print('three is present in the tuple')\n",
    "else:\n",
    "    print('three is not present in the tuple')"
   ]
  },
  {
   "cell_type": "code",
   "execution_count": 39,
   "id": "55ab1515",
   "metadata": {},
   "outputs": [
    {
     "name": "stdout",
     "output_type": "stream",
     "text": [
      "eleven is not present in the tuple\n"
     ]
    }
   ],
   "source": [
    "if 'eleven' in mytuple:\n",
    "    print('eleven is present in the tuple')\n",
    "else:\n",
    "    print('eleven is not present in the tuple')"
   ]
  },
  {
   "cell_type": "markdown",
   "id": "d0573578",
   "metadata": {},
   "source": [
    "# Index Position "
   ]
  },
  {
   "cell_type": "code",
   "execution_count": 40,
   "id": "bd069824",
   "metadata": {},
   "outputs": [
    {
     "data": {
      "text/plain": [
       "('one', 'two', 'three', 'four', 'five', 'six', 'seven', 'eight')"
      ]
     },
     "execution_count": 40,
     "metadata": {},
     "output_type": "execute_result"
    }
   ],
   "source": [
    "mytuple"
   ]
  },
  {
   "cell_type": "code",
   "execution_count": 41,
   "id": "47c7daed",
   "metadata": {},
   "outputs": [
    {
     "data": {
      "text/plain": [
       "2"
      ]
     },
     "execution_count": 41,
     "metadata": {},
     "output_type": "execute_result"
    }
   ],
   "source": [
    "mytuple.index('three')"
   ]
  },
  {
   "cell_type": "code",
   "execution_count": 42,
   "id": "1ea018f4",
   "metadata": {},
   "outputs": [
    {
     "data": {
      "text/plain": [
       "7"
      ]
     },
     "execution_count": 42,
     "metadata": {},
     "output_type": "execute_result"
    }
   ],
   "source": [
    "mytuple.index('eight')"
   ]
  },
  {
   "cell_type": "markdown",
   "id": "e6cf5645",
   "metadata": {},
   "source": [
    "# Sorting "
   ]
  },
  {
   "cell_type": "code",
   "execution_count": 45,
   "id": "d0ef0e63",
   "metadata": {},
   "outputs": [],
   "source": [
    "mytuple2 = (43,67,99,12,6,90,67) "
   ]
  },
  {
   "cell_type": "code",
   "execution_count": 46,
   "id": "322d19aa",
   "metadata": {},
   "outputs": [
    {
     "data": {
      "text/plain": [
       "[6, 12, 43, 67, 67, 90, 99]"
      ]
     },
     "execution_count": 46,
     "metadata": {},
     "output_type": "execute_result"
    }
   ],
   "source": [
    "sorted(mytuple2)"
   ]
  },
  {
   "cell_type": "code",
   "execution_count": 50,
   "id": "5ed9eee8",
   "metadata": {},
   "outputs": [
    {
     "data": {
      "text/plain": [
       "[99, 90, 67, 67, 43, 12, 6]"
      ]
     },
     "execution_count": 50,
     "metadata": {},
     "output_type": "execute_result"
    }
   ],
   "source": [
    "sorted(mytuple2,reverse=True)"
   ]
  },
  {
   "cell_type": "markdown",
   "id": "ab5ddd1d",
   "metadata": {},
   "source": [
    "# Sets "
   ]
  },
  {
   "cell_type": "code",
   "execution_count": 52,
   "id": "36337710",
   "metadata": {},
   "outputs": [],
   "source": [
    "s=set()"
   ]
  },
  {
   "cell_type": "code",
   "execution_count": 53,
   "id": "825134e7",
   "metadata": {},
   "outputs": [
    {
     "data": {
      "text/plain": [
       "set()"
      ]
     },
     "execution_count": 53,
     "metadata": {},
     "output_type": "execute_result"
    }
   ],
   "source": [
    "s"
   ]
  },
  {
   "cell_type": "code",
   "execution_count": 54,
   "id": "542a3c30",
   "metadata": {},
   "outputs": [
    {
     "data": {
      "text/plain": [
       "{1, 2, 3, 4, 5}"
      ]
     },
     "execution_count": 54,
     "metadata": {},
     "output_type": "execute_result"
    }
   ],
   "source": [
    "myset= {1,2,3,4,5}\n",
    "myset"
   ]
  },
  {
   "cell_type": "code",
   "execution_count": 55,
   "id": "fd25638e",
   "metadata": {},
   "outputs": [
    {
     "data": {
      "text/plain": [
       "5"
      ]
     },
     "execution_count": 55,
     "metadata": {},
     "output_type": "execute_result"
    }
   ],
   "source": [
    "len(myset)"
   ]
  },
  {
   "cell_type": "code",
   "execution_count": 57,
   "id": "f4000b8f",
   "metadata": {},
   "outputs": [
    {
     "data": {
      "text/plain": [
       "{1, 2, 3, 4, 5}"
      ]
     },
     "execution_count": 57,
     "metadata": {},
     "output_type": "execute_result"
    }
   ],
   "source": [
    "my_set = {1,1,2,2,3,4,5,5} \n",
    "my_set"
   ]
  },
  {
   "cell_type": "code",
   "execution_count": 58,
   "id": "b6d836a3",
   "metadata": {},
   "outputs": [
    {
     "data": {
      "text/plain": [
       "{1.79, 2.08, 3.99, 4.56, 5.45}"
      ]
     },
     "execution_count": 58,
     "metadata": {},
     "output_type": "execute_result"
    }
   ],
   "source": [
    "myset1 = {1.79,2.08,3.99,4.56,5.45}\n",
    "myset1"
   ]
  },
  {
   "cell_type": "code",
   "execution_count": 59,
   "id": "82e835f7",
   "metadata": {},
   "outputs": [
    {
     "data": {
      "text/plain": [
       "{'Asif', 'John', 'Tyrion'}"
      ]
     },
     "execution_count": 59,
     "metadata": {},
     "output_type": "execute_result"
    }
   ],
   "source": [
    "myset2 = {'Asif' , 'John' , 'Tyrion'} \n",
    "myset2"
   ]
  },
  {
   "cell_type": "code",
   "execution_count": 60,
   "id": "272f8175",
   "metadata": {},
   "outputs": [
    {
     "data": {
      "text/plain": [
       "{(11, 22, 32), 10, 20, 'Hola'}"
      ]
     },
     "execution_count": 60,
     "metadata": {},
     "output_type": "execute_result"
    }
   ],
   "source": [
    "myset3 = {10,20, \"Hola\", (11, 22, 32)}\n",
    "myset3"
   ]
  },
  {
   "cell_type": "code",
   "execution_count": 61,
   "id": "66b86542",
   "metadata": {},
   "outputs": [
    {
     "data": {
      "text/plain": [
       "{(11, 22, 32), 10, 20, 'Hola'}"
      ]
     },
     "execution_count": 61,
     "metadata": {},
     "output_type": "execute_result"
    }
   ],
   "source": [
    "myset3"
   ]
  },
  {
   "cell_type": "code",
   "execution_count": 65,
   "id": "9e88f2b3",
   "metadata": {},
   "outputs": [
    {
     "data": {
      "text/plain": [
       "{(11, 22, 32), 10, 20, 'Hola'}"
      ]
     },
     "execution_count": 65,
     "metadata": {},
     "output_type": "execute_result"
    }
   ],
   "source": [
    "myset3 = {10,20, \"Hola\", (11, 22, 32)}\n",
    "myset3"
   ]
  },
  {
   "cell_type": "code",
   "execution_count": 66,
   "id": "cc9503c1",
   "metadata": {},
   "outputs": [
    {
     "data": {
      "text/plain": [
       "set"
      ]
     },
     "execution_count": 66,
     "metadata": {},
     "output_type": "execute_result"
    }
   ],
   "source": [
    "myset4 = set()\n",
    "type(myset)\n",
    "    \n"
   ]
  },
  {
   "cell_type": "code",
   "execution_count": 67,
   "id": "773505d4",
   "metadata": {},
   "outputs": [
    {
     "name": "stdout",
     "output_type": "stream",
     "text": [
      "<class 'set'>\n"
     ]
    }
   ],
   "source": [
    "print(type(myset))"
   ]
  },
  {
   "cell_type": "code",
   "execution_count": 68,
   "id": "3a5909e4",
   "metadata": {},
   "outputs": [
    {
     "data": {
      "text/plain": [
       "{'four', 'one', 'three', 'two'}"
      ]
     },
     "execution_count": 68,
     "metadata": {},
     "output_type": "execute_result"
    }
   ],
   "source": [
    "my_set1 = set(('one' , 'two' , 'three' , 'four')) \n",
    "my_set1"
   ]
  },
  {
   "cell_type": "markdown",
   "id": "8b786804",
   "metadata": {},
   "source": [
    "# Loop through a Set "
   ]
  },
  {
   "cell_type": "code",
   "execution_count": 1,
   "id": "f384d453",
   "metadata": {},
   "outputs": [],
   "source": [
    "myset = {'one', 'two', 'three', 'four', 'five', 'six', 'seven', 'eight'} "
   ]
  },
  {
   "cell_type": "code",
   "execution_count": 2,
   "id": "fef85f03",
   "metadata": {},
   "outputs": [
    {
     "name": "stdout",
     "output_type": "stream",
     "text": [
      "four\n",
      "eight\n",
      "three\n",
      "one\n",
      "six\n",
      "seven\n",
      "two\n",
      "five\n"
     ]
    }
   ],
   "source": [
    "for i in myset:\n",
    "    print(i)"
   ]
  },
  {
   "cell_type": "code",
   "execution_count": 4,
   "id": "65bbb6f5",
   "metadata": {},
   "outputs": [
    {
     "name": "stdout",
     "output_type": "stream",
     "text": [
      "(0, 'four')\n",
      "(1, 'eight')\n",
      "(2, 'three')\n",
      "(3, 'one')\n",
      "(4, 'six')\n",
      "(5, 'seven')\n",
      "(6, 'two')\n",
      "(7, 'five')\n"
     ]
    }
   ],
   "source": [
    "for i in enumerate(myset):\n",
    "    print(i)\n"
   ]
  },
  {
   "cell_type": "markdown",
   "id": "5cc7df41",
   "metadata": {},
   "source": [
    "# Set Membership "
   ]
  },
  {
   "cell_type": "code",
   "execution_count": 6,
   "id": "09cf0b12",
   "metadata": {},
   "outputs": [
    {
     "data": {
      "text/plain": [
       "{'eight', 'five', 'four', 'one', 'seven', 'six', 'three', 'two'}"
      ]
     },
     "execution_count": 6,
     "metadata": {},
     "output_type": "execute_result"
    }
   ],
   "source": [
    "myset"
   ]
  },
  {
   "cell_type": "code",
   "execution_count": 7,
   "id": "1e3ccbf9",
   "metadata": {},
   "outputs": [
    {
     "data": {
      "text/plain": [
       "True"
      ]
     },
     "execution_count": 7,
     "metadata": {},
     "output_type": "execute_result"
    }
   ],
   "source": [
    "'one' in myset"
   ]
  },
  {
   "cell_type": "code",
   "execution_count": 8,
   "id": "40e9186c",
   "metadata": {},
   "outputs": [
    {
     "data": {
      "text/plain": [
       "False"
      ]
     },
     "execution_count": 8,
     "metadata": {},
     "output_type": "execute_result"
    }
   ],
   "source": [
    "'ten' in myset\n"
   ]
  },
  {
   "cell_type": "code",
   "execution_count": 12,
   "id": "c9715535",
   "metadata": {},
   "outputs": [
    {
     "name": "stdout",
     "output_type": "stream",
     "text": [
      "Three is present in the set\n"
     ]
    }
   ],
   "source": [
    "if 'three' in myset:# Check if 'three' exist in the set \n",
    "    print('Three is present in the set') \n",
    "else: \n",
    "    print('Three is not present in the set') "
   ]
  },
  {
   "cell_type": "code",
   "execution_count": 14,
   "id": "a5945c71",
   "metadata": {},
   "outputs": [
    {
     "name": "stdout",
     "output_type": "stream",
     "text": [
      "eleven is not present in the set\n"
     ]
    }
   ],
   "source": [
    "if 'eleven' in myset: # Check if 'eleven' exist in the list \n",
    "    print('eleven is present in the set') \n",
    "else: \n",
    "    print('eleven is not present in the set') \n",
    " "
   ]
  },
  {
   "cell_type": "markdown",
   "id": "d24d0891",
   "metadata": {},
   "source": [
    "# Add & Remove Items "
   ]
  },
  {
   "cell_type": "code",
   "execution_count": 15,
   "id": "ba18edae",
   "metadata": {},
   "outputs": [
    {
     "data": {
      "text/plain": [
       "{'eight', 'five', 'four', 'one', 'seven', 'six', 'three', 'two'}"
      ]
     },
     "execution_count": 15,
     "metadata": {},
     "output_type": "execute_result"
    }
   ],
   "source": [
    "myset"
   ]
  },
  {
   "cell_type": "code",
   "execution_count": 16,
   "id": "dca13893",
   "metadata": {},
   "outputs": [],
   "source": [
    "myset.add('NINE')"
   ]
  },
  {
   "cell_type": "code",
   "execution_count": 17,
   "id": "d6a6b786",
   "metadata": {},
   "outputs": [
    {
     "data": {
      "text/plain": [
       "{'NINE', 'eight', 'five', 'four', 'one', 'seven', 'six', 'three', 'two'}"
      ]
     },
     "execution_count": 17,
     "metadata": {},
     "output_type": "execute_result"
    }
   ],
   "source": [
    "myset"
   ]
  },
  {
   "cell_type": "code",
   "execution_count": 20,
   "id": "f70469e0",
   "metadata": {},
   "outputs": [
    {
     "data": {
      "text/plain": [
       "{'E',\n",
       " 'ELEVEN',\n",
       " 'L',\n",
       " 'N',\n",
       " 'NINE',\n",
       " 'T',\n",
       " 'TEN',\n",
       " 'TWELVE',\n",
       " 'V',\n",
       " 'W',\n",
       " 'eight',\n",
       " 'five',\n",
       " 'four',\n",
       " 'one',\n",
       " 'seven',\n",
       " 'six',\n",
       " 'three',\n",
       " 'two'}"
      ]
     },
     "execution_count": 20,
     "metadata": {},
     "output_type": "execute_result"
    }
   ],
   "source": [
    "myset.update(['TEN' , 'ELEVEN' , 'TWELVE'])\n",
    "myset"
   ]
  },
  {
   "cell_type": "code",
   "execution_count": 21,
   "id": "bdadc325",
   "metadata": {},
   "outputs": [
    {
     "data": {
      "text/plain": [
       "{'ELEVEN',\n",
       " 'L',\n",
       " 'N',\n",
       " 'NINE',\n",
       " 'T',\n",
       " 'TEN',\n",
       " 'TWELVE',\n",
       " 'V',\n",
       " 'W',\n",
       " 'eight',\n",
       " 'five',\n",
       " 'four',\n",
       " 'one',\n",
       " 'seven',\n",
       " 'six',\n",
       " 'three',\n",
       " 'two'}"
      ]
     },
     "execution_count": 21,
     "metadata": {},
     "output_type": "execute_result"
    }
   ],
   "source": [
    "myset.remove('E')\n",
    "myset"
   ]
  },
  {
   "cell_type": "code",
   "execution_count": 22,
   "id": "5923631e",
   "metadata": {},
   "outputs": [],
   "source": [
    "myset={'eight', 'five', 'four', 'one', 'seven', 'six', 'three', 'two'}"
   ]
  },
  {
   "cell_type": "code",
   "execution_count": 23,
   "id": "5bb2717a",
   "metadata": {},
   "outputs": [
    {
     "data": {
      "text/plain": [
       "{'eight', 'five', 'four', 'one', 'seven', 'six', 'three', 'two'}"
      ]
     },
     "execution_count": 23,
     "metadata": {},
     "output_type": "execute_result"
    }
   ],
   "source": [
    "myset"
   ]
  },
  {
   "cell_type": "code",
   "execution_count": 25,
   "id": "bd9d0398",
   "metadata": {},
   "outputs": [
    {
     "data": {
      "text/plain": [
       "{'ELEVEN',\n",
       " 'TEN',\n",
       " 'eight',\n",
       " 'five',\n",
       " 'four',\n",
       " 'one',\n",
       " 'seven',\n",
       " 'six',\n",
       " 'three',\n",
       " 'two'}"
      ]
     },
     "execution_count": 25,
     "metadata": {},
     "output_type": "execute_result"
    }
   ],
   "source": [
    "myset.update(['TEN','ELEVEN'])\n",
    "myset\n"
   ]
  },
  {
   "cell_type": "code",
   "execution_count": 26,
   "id": "58b29219",
   "metadata": {},
   "outputs": [
    {
     "data": {
      "text/plain": [
       "{'TEN', 'eight', 'five', 'four', 'one', 'seven', 'six', 'three', 'two'}"
      ]
     },
     "execution_count": 26,
     "metadata": {},
     "output_type": "execute_result"
    }
   ],
   "source": [
    "myset.discard('ELEVEN')\n",
    "myset"
   ]
  },
  {
   "cell_type": "code",
   "execution_count": 27,
   "id": "dd6b2f08",
   "metadata": {},
   "outputs": [
    {
     "data": {
      "text/plain": [
       "set()"
      ]
     },
     "execution_count": 27,
     "metadata": {},
     "output_type": "execute_result"
    }
   ],
   "source": [
    "myset.clear()\n",
    "myset"
   ]
  },
  {
   "cell_type": "markdown",
   "id": "0d2a811e",
   "metadata": {},
   "source": [
    "# Copy Set "
   ]
  },
  {
   "cell_type": "code",
   "execution_count": 28,
   "id": "8da3fbad",
   "metadata": {},
   "outputs": [],
   "source": [
    "myset = {'one', 'two', 'three', 'four', 'five', 'six', 'seven', 'eight'}"
   ]
  },
  {
   "cell_type": "code",
   "execution_count": 29,
   "id": "bafc53e4",
   "metadata": {},
   "outputs": [
    {
     "data": {
      "text/plain": [
       "{'eight', 'five', 'four', 'one', 'seven', 'six', 'three', 'two'}"
      ]
     },
     "execution_count": 29,
     "metadata": {},
     "output_type": "execute_result"
    }
   ],
   "source": [
    "myset"
   ]
  },
  {
   "cell_type": "code",
   "execution_count": 31,
   "id": "2428cfef",
   "metadata": {},
   "outputs": [
    {
     "data": {
      "text/plain": [
       "{'eight', 'five', 'four', 'one', 'seven', 'six', 'three', 'two'}"
      ]
     },
     "execution_count": 31,
     "metadata": {},
     "output_type": "execute_result"
    }
   ],
   "source": [
    "myset1 = myset # Create a new reference \"myset1\" \n",
    "myset1 "
   ]
  },
  {
   "cell_type": "code",
   "execution_count": 32,
   "id": "4d4fc877",
   "metadata": {},
   "outputs": [
    {
     "data": {
      "text/plain": [
       "(2677373501728, 2677373501728)"
      ]
     },
     "execution_count": 32,
     "metadata": {},
     "output_type": "execute_result"
    }
   ],
   "source": [
    "id(myset) , id(myset1)"
   ]
  },
  {
   "cell_type": "code",
   "execution_count": 33,
   "id": "ff8067aa",
   "metadata": {},
   "outputs": [
    {
     "data": {
      "text/plain": [
       "{'eight', 'five', 'four', 'one', 'seven', 'six', 'three', 'two'}"
      ]
     },
     "execution_count": 33,
     "metadata": {},
     "output_type": "execute_result"
    }
   ],
   "source": [
    "my_set = myset.copy() # Create a copy of the list \n",
    "my_set "
   ]
  },
  {
   "cell_type": "code",
   "execution_count": 34,
   "id": "c3d0f303",
   "metadata": {},
   "outputs": [
    {
     "data": {
      "text/plain": [
       "2677373482592"
      ]
     },
     "execution_count": 34,
     "metadata": {},
     "output_type": "execute_result"
    }
   ],
   "source": [
    "id(my_set)"
   ]
  },
  {
   "cell_type": "code",
   "execution_count": 35,
   "id": "727f837f",
   "metadata": {},
   "outputs": [
    {
     "data": {
      "text/plain": [
       "{'eight', 'five', 'four', 'nine', 'one', 'seven', 'six', 'three', 'two'}"
      ]
     },
     "execution_count": 35,
     "metadata": {},
     "output_type": "execute_result"
    }
   ],
   "source": [
    "myset.add('nine') \n",
    "myset "
   ]
  },
  {
   "cell_type": "code",
   "execution_count": 36,
   "id": "fb198cda",
   "metadata": {},
   "outputs": [
    {
     "data": {
      "text/plain": [
       "{'eight', 'five', 'four', 'nine', 'one', 'seven', 'six', 'three', 'two'}"
      ]
     },
     "execution_count": 36,
     "metadata": {},
     "output_type": "execute_result"
    }
   ],
   "source": [
    "myset1"
   ]
  },
  {
   "cell_type": "code",
   "execution_count": 37,
   "id": "f8359d3b",
   "metadata": {},
   "outputs": [
    {
     "data": {
      "text/plain": [
       "{'eight', 'five', 'four', 'one', 'seven', 'six', 'three', 'two'}"
      ]
     },
     "execution_count": 37,
     "metadata": {},
     "output_type": "execute_result"
    }
   ],
   "source": [
    "my_set"
   ]
  },
  {
   "cell_type": "markdown",
   "id": "08188a63",
   "metadata": {},
   "source": [
    "# Set Operation "
   ]
  },
  {
   "cell_type": "code",
   "execution_count": 40,
   "id": "b43c25fa",
   "metadata": {},
   "outputs": [],
   "source": [
    "A = {1,2,3,4,5} \n",
    "B = {4,5,6,7,8} \n",
    "C = {8,9,10} "
   ]
  },
  {
   "cell_type": "code",
   "execution_count": 41,
   "id": "a4abb3c4",
   "metadata": {},
   "outputs": [
    {
     "data": {
      "text/plain": [
       "{1, 2, 3, 4, 5, 6, 7, 8}"
      ]
     },
     "execution_count": 41,
     "metadata": {},
     "output_type": "execute_result"
    }
   ],
   "source": [
    "A|B"
   ]
  },
  {
   "cell_type": "code",
   "execution_count": 42,
   "id": "4add3e5c",
   "metadata": {},
   "outputs": [
    {
     "data": {
      "text/plain": [
       "{1, 2, 3, 4, 5, 6, 7, 8}"
      ]
     },
     "execution_count": 42,
     "metadata": {},
     "output_type": "execute_result"
    }
   ],
   "source": [
    "A.union(B)"
   ]
  },
  {
   "cell_type": "code",
   "execution_count": 43,
   "id": "7f44193d",
   "metadata": {},
   "outputs": [
    {
     "data": {
      "text/plain": [
       "{1, 2, 3, 4, 5, 6, 7, 8, 9, 10}"
      ]
     },
     "execution_count": 43,
     "metadata": {},
     "output_type": "execute_result"
    }
   ],
   "source": [
    "A.union(B,C)"
   ]
  },
  {
   "cell_type": "code",
   "execution_count": 44,
   "id": "3e888588",
   "metadata": {},
   "outputs": [],
   "source": [
    "A.update(B,C)"
   ]
  },
  {
   "cell_type": "code",
   "execution_count": 45,
   "id": "8efdef07",
   "metadata": {},
   "outputs": [
    {
     "data": {
      "text/plain": [
       "{1, 2, 3, 4, 5, 6, 7, 8, 9, 10}"
      ]
     },
     "execution_count": 45,
     "metadata": {},
     "output_type": "execute_result"
    }
   ],
   "source": [
    "A"
   ]
  },
  {
   "cell_type": "code",
   "execution_count": 46,
   "id": "80d1a2ee",
   "metadata": {},
   "outputs": [],
   "source": [
    "\n",
    "A = {1,2,3,4,5} \n",
    "B = {4,5,6,7,8} "
   ]
  },
  {
   "cell_type": "code",
   "execution_count": 47,
   "id": "0b2eb6ab",
   "metadata": {},
   "outputs": [
    {
     "data": {
      "text/plain": [
       "{4, 5}"
      ]
     },
     "execution_count": 47,
     "metadata": {},
     "output_type": "execute_result"
    }
   ],
   "source": [
    "A&B"
   ]
  },
  {
   "cell_type": "code",
   "execution_count": 48,
   "id": "1b30e630",
   "metadata": {},
   "outputs": [
    {
     "data": {
      "text/plain": [
       "{4, 5}"
      ]
     },
     "execution_count": 48,
     "metadata": {},
     "output_type": "execute_result"
    }
   ],
   "source": [
    "A.intersection(B)"
   ]
  },
  {
   "cell_type": "code",
   "execution_count": 49,
   "id": "3b2d4d8a",
   "metadata": {},
   "outputs": [],
   "source": [
    "A.intersection_update(B)"
   ]
  },
  {
   "cell_type": "code",
   "execution_count": 50,
   "id": "22c61e4c",
   "metadata": {},
   "outputs": [
    {
     "data": {
      "text/plain": [
       "{4, 5}"
      ]
     },
     "execution_count": 50,
     "metadata": {},
     "output_type": "execute_result"
    }
   ],
   "source": [
    "A"
   ]
  },
  {
   "cell_type": "code",
   "execution_count": 51,
   "id": "24253a35",
   "metadata": {},
   "outputs": [],
   "source": [
    "A = {1,2,3,4,5} \n",
    "B = {4,5,6,7,8} "
   ]
  },
  {
   "cell_type": "code",
   "execution_count": 52,
   "id": "8d147c05",
   "metadata": {},
   "outputs": [
    {
     "data": {
      "text/plain": [
       "{1, 2, 3}"
      ]
     },
     "execution_count": 52,
     "metadata": {},
     "output_type": "execute_result"
    }
   ],
   "source": [
    "A-B"
   ]
  },
  {
   "cell_type": "code",
   "execution_count": 53,
   "id": "1b9cd5a8",
   "metadata": {},
   "outputs": [
    {
     "data": {
      "text/plain": [
       "{1, 2, 3}"
      ]
     },
     "execution_count": 53,
     "metadata": {},
     "output_type": "execute_result"
    }
   ],
   "source": [
    "A.difference(B)"
   ]
  },
  {
   "cell_type": "code",
   "execution_count": 54,
   "id": "0aca3d34",
   "metadata": {},
   "outputs": [
    {
     "data": {
      "text/plain": [
       "{6, 7, 8}"
      ]
     },
     "execution_count": 54,
     "metadata": {},
     "output_type": "execute_result"
    }
   ],
   "source": [
    "B-A"
   ]
  },
  {
   "cell_type": "code",
   "execution_count": 56,
   "id": "2536b613",
   "metadata": {},
   "outputs": [
    {
     "data": {
      "text/plain": [
       "{6, 7, 8}"
      ]
     },
     "execution_count": 56,
     "metadata": {},
     "output_type": "execute_result"
    }
   ],
   "source": [
    "B.difference(A)"
   ]
  },
  {
   "cell_type": "code",
   "execution_count": 57,
   "id": "43c02aba",
   "metadata": {},
   "outputs": [],
   "source": [
    "B.difference_update(A)"
   ]
  },
  {
   "cell_type": "code",
   "execution_count": 58,
   "id": "96f39154",
   "metadata": {},
   "outputs": [
    {
     "data": {
      "text/plain": [
       "{6, 7, 8}"
      ]
     },
     "execution_count": 58,
     "metadata": {},
     "output_type": "execute_result"
    }
   ],
   "source": [
    "B"
   ]
  },
  {
   "cell_type": "code",
   "execution_count": 59,
   "id": "06c90859",
   "metadata": {},
   "outputs": [],
   "source": [
    "A = {1,2,3,4,5} \n",
    "B = {4,5,6,7,8} "
   ]
  },
  {
   "cell_type": "code",
   "execution_count": 60,
   "id": "c92333fa",
   "metadata": {},
   "outputs": [
    {
     "data": {
      "text/plain": [
       "{1, 2, 3, 6, 7, 8}"
      ]
     },
     "execution_count": 60,
     "metadata": {},
     "output_type": "execute_result"
    }
   ],
   "source": [
    "A^B"
   ]
  },
  {
   "cell_type": "code",
   "execution_count": 61,
   "id": "51b6a748",
   "metadata": {},
   "outputs": [
    {
     "data": {
      "text/plain": [
       "{1, 2, 3, 6, 7, 8}"
      ]
     },
     "execution_count": 61,
     "metadata": {},
     "output_type": "execute_result"
    }
   ],
   "source": [
    "A.symmetric_difference(B)"
   ]
  },
  {
   "cell_type": "code",
   "execution_count": 62,
   "id": "310b7026",
   "metadata": {},
   "outputs": [],
   "source": [
    "A.symmetric_difference_update(B)"
   ]
  },
  {
   "cell_type": "code",
   "execution_count": 63,
   "id": "0f2c1b41",
   "metadata": {},
   "outputs": [
    {
     "data": {
      "text/plain": [
       "{1, 2, 3, 6, 7, 8}"
      ]
     },
     "execution_count": 63,
     "metadata": {},
     "output_type": "execute_result"
    }
   ],
   "source": [
    "A"
   ]
  },
  {
   "cell_type": "code",
   "execution_count": 64,
   "id": "52ea02a9",
   "metadata": {},
   "outputs": [],
   "source": [
    "A = {1,2,3,4,5,6,7,8,9} \n",
    "B = {3,4,5,6,7,8} \n",
    "C = {10,20,30,40} "
   ]
  },
  {
   "cell_type": "code",
   "execution_count": 65,
   "id": "57bb48d5",
   "metadata": {},
   "outputs": [
    {
     "data": {
      "text/plain": [
       "True"
      ]
     },
     "execution_count": 65,
     "metadata": {},
     "output_type": "execute_result"
    }
   ],
   "source": [
    "B.issubset(A)"
   ]
  },
  {
   "cell_type": "code",
   "execution_count": 66,
   "id": "0c76257b",
   "metadata": {},
   "outputs": [
    {
     "data": {
      "text/plain": [
       "True"
      ]
     },
     "execution_count": 66,
     "metadata": {},
     "output_type": "execute_result"
    }
   ],
   "source": [
    "A.issuperset(B) "
   ]
  },
  {
   "cell_type": "code",
   "execution_count": 70,
   "id": "4e29c4b1",
   "metadata": {},
   "outputs": [
    {
     "data": {
      "text/plain": [
       "True"
      ]
     },
     "execution_count": 70,
     "metadata": {},
     "output_type": "execute_result"
    }
   ],
   "source": [
    "C.isdisjoint(A) "
   ]
  },
  {
   "cell_type": "code",
   "execution_count": 71,
   "id": "3ca558b1",
   "metadata": {},
   "outputs": [
    {
     "data": {
      "text/plain": [
       "False"
      ]
     },
     "execution_count": 71,
     "metadata": {},
     "output_type": "execute_result"
    }
   ],
   "source": [
    "B.isdisjoint(A)"
   ]
  },
  {
   "cell_type": "code",
   "execution_count": 72,
   "id": "e100a94a",
   "metadata": {},
   "outputs": [
    {
     "data": {
      "text/plain": [
       "{1, 2, 3, 4, 5, 6, 7, 8, 9}"
      ]
     },
     "execution_count": 72,
     "metadata": {},
     "output_type": "execute_result"
    }
   ],
   "source": [
    "A"
   ]
  },
  {
   "cell_type": "code",
   "execution_count": 73,
   "id": "b302e178",
   "metadata": {},
   "outputs": [
    {
     "data": {
      "text/plain": [
       "45"
      ]
     },
     "execution_count": 73,
     "metadata": {},
     "output_type": "execute_result"
    }
   ],
   "source": [
    "sum(A)"
   ]
  },
  {
   "cell_type": "code",
   "execution_count": 74,
   "id": "caa52318",
   "metadata": {},
   "outputs": [
    {
     "data": {
      "text/plain": [
       "9"
      ]
     },
     "execution_count": 74,
     "metadata": {},
     "output_type": "execute_result"
    }
   ],
   "source": [
    "max(A)"
   ]
  },
  {
   "cell_type": "code",
   "execution_count": 75,
   "id": "6a862e0f",
   "metadata": {},
   "outputs": [
    {
     "data": {
      "text/plain": [
       "1"
      ]
     },
     "execution_count": 75,
     "metadata": {},
     "output_type": "execute_result"
    }
   ],
   "source": [
    "min(A)"
   ]
  },
  {
   "cell_type": "code",
   "execution_count": 76,
   "id": "1ecf8fd2",
   "metadata": {},
   "outputs": [
    {
     "data": {
      "text/plain": [
       "9"
      ]
     },
     "execution_count": 76,
     "metadata": {},
     "output_type": "execute_result"
    }
   ],
   "source": [
    "len(A)"
   ]
  },
  {
   "cell_type": "code",
   "execution_count": 77,
   "id": "7996c424",
   "metadata": {},
   "outputs": [
    {
     "data": {
      "text/plain": [
       "[(0, 1), (1, 2), (2, 3), (3, 4), (4, 5), (5, 6), (6, 7), (7, 8), (8, 9)]"
      ]
     },
     "execution_count": 77,
     "metadata": {},
     "output_type": "execute_result"
    }
   ],
   "source": [
    "list(enumerate(A))"
   ]
  },
  {
   "cell_type": "code",
   "execution_count": 78,
   "id": "fc6fbcfa",
   "metadata": {},
   "outputs": [],
   "source": [
    "D= sorted(A)"
   ]
  },
  {
   "cell_type": "code",
   "execution_count": 79,
   "id": "4d85a52e",
   "metadata": {},
   "outputs": [
    {
     "data": {
      "text/plain": [
       "[1, 2, 3, 4, 5, 6, 7, 8, 9]"
      ]
     },
     "execution_count": 79,
     "metadata": {},
     "output_type": "execute_result"
    }
   ],
   "source": [
    "D"
   ]
  },
  {
   "cell_type": "code",
   "execution_count": 80,
   "id": "c381acc4",
   "metadata": {},
   "outputs": [],
   "source": [
    "D= sorted(A,reverse=True)"
   ]
  },
  {
   "cell_type": "code",
   "execution_count": 81,
   "id": "7e25145b",
   "metadata": {},
   "outputs": [
    {
     "data": {
      "text/plain": [
       "[9, 8, 7, 6, 5, 4, 3, 2, 1]"
      ]
     },
     "execution_count": 81,
     "metadata": {},
     "output_type": "execute_result"
    }
   ],
   "source": [
    "D"
   ]
  },
  {
   "cell_type": "code",
   "execution_count": 82,
   "id": "2cd268d6",
   "metadata": {},
   "outputs": [
    {
     "data": {
      "text/plain": [
       "[1, 2, 3, 4, 5, 6, 7, 8, 9]"
      ]
     },
     "execution_count": 82,
     "metadata": {},
     "output_type": "execute_result"
    }
   ],
   "source": [
    "sorted(D)"
   ]
  },
  {
   "cell_type": "markdown",
   "id": "7dc22128",
   "metadata": {},
   "source": [
    "# Dictionary "
   ]
  },
  {
   "cell_type": "code",
   "execution_count": 83,
   "id": "ae9978e1",
   "metadata": {},
   "outputs": [
    {
     "data": {
      "text/plain": [
       "{}"
      ]
     },
     "execution_count": 83,
     "metadata": {},
     "output_type": "execute_result"
    }
   ],
   "source": [
    "mydict = dict() # empty dictionary \n",
    "mydict "
   ]
  },
  {
   "cell_type": "code",
   "execution_count": 85,
   "id": "c68da2ed",
   "metadata": {},
   "outputs": [
    {
     "data": {
      "text/plain": [
       "{}"
      ]
     },
     "execution_count": 85,
     "metadata": {},
     "output_type": "execute_result"
    }
   ],
   "source": [
    "mydict = {} # empty dictionary \n",
    "mydict "
   ]
  },
  {
   "cell_type": "code",
   "execution_count": 86,
   "id": "92072ccf",
   "metadata": {},
   "outputs": [
    {
     "data": {
      "text/plain": [
       "{1: 'one', 2: 'two', 3: 'three'}"
      ]
     },
     "execution_count": 86,
     "metadata": {},
     "output_type": "execute_result"
    }
   ],
   "source": [
    "mydict = {1:'one' , 2:'two' , 3:'three'} # dictionary with integer keys \n",
    "mydict "
   ]
  },
  {
   "cell_type": "code",
   "execution_count": 87,
   "id": "0bf5d7e8",
   "metadata": {},
   "outputs": [
    {
     "data": {
      "text/plain": [
       "{1: 'one', 2: 'two', 3: 'three'}"
      ]
     },
     "execution_count": 87,
     "metadata": {},
     "output_type": "execute_result"
    }
   ],
   "source": [
    "mydict = dict({1:'one' , 2:'two' , 3:'three'}) # Create dictionary using dict() \n",
    "mydict"
   ]
  },
  {
   "cell_type": "code",
   "execution_count": 88,
   "id": "6aef0618",
   "metadata": {},
   "outputs": [
    {
     "data": {
      "text/plain": [
       "{'A': 'one', 'B': 'two', 'C': 'three'}"
      ]
     },
     "execution_count": 88,
     "metadata": {},
     "output_type": "execute_result"
    }
   ],
   "source": [
    "mydict = {'A':'one' , 'B':'two' , 'C':'three'} # dictionary with character keys \n",
    "mydict "
   ]
  },
  {
   "cell_type": "code",
   "execution_count": 90,
   "id": "398a4bd0",
   "metadata": {},
   "outputs": [
    {
     "data": {
      "text/plain": [
       "{1: 'one', 'A': 'two', 3: 'three'}"
      ]
     },
     "execution_count": 90,
     "metadata": {},
     "output_type": "execute_result"
    }
   ],
   "source": [
    "mydict = {1:'one' , 'A':'two' , 3:'three'} # dictionary with mixed keys \n",
    "mydict "
   ]
  },
  {
   "cell_type": "code",
   "execution_count": 92,
   "id": "c7ece1e9",
   "metadata": {},
   "outputs": [
    {
     "data": {
      "text/plain": [
       "dict_keys([1, 'A', 3])"
      ]
     },
     "execution_count": 92,
     "metadata": {},
     "output_type": "execute_result"
    }
   ],
   "source": [
    "mydict.keys()"
   ]
  },
  {
   "cell_type": "code",
   "execution_count": 93,
   "id": "e87d4c5a",
   "metadata": {},
   "outputs": [
    {
     "data": {
      "text/plain": [
       "dict_values(['one', 'two', 'three'])"
      ]
     },
     "execution_count": 93,
     "metadata": {},
     "output_type": "execute_result"
    }
   ],
   "source": [
    "mydict.values()"
   ]
  },
  {
   "cell_type": "code",
   "execution_count": 94,
   "id": "106cff44",
   "metadata": {},
   "outputs": [
    {
     "data": {
      "text/plain": [
       "dict_items([(1, 'one'), ('A', 'two'), (3, 'three')])"
      ]
     },
     "execution_count": 94,
     "metadata": {},
     "output_type": "execute_result"
    }
   ],
   "source": [
    "mydict.items()"
   ]
  },
  {
   "cell_type": "code",
   "execution_count": 95,
   "id": "99f1573a",
   "metadata": {},
   "outputs": [
    {
     "data": {
      "text/plain": [
       "{1: 'one', 2: 'two', 'A': ['asif', 'john', 'Maria']}"
      ]
     },
     "execution_count": 95,
     "metadata": {},
     "output_type": "execute_result"
    }
   ],
   "source": [
    "mydict = {1:'one' , 2:'two' , 'A':['asif' , 'john' , 'Maria']} # dictionary with \n",
    "mydict "
   ]
  },
  {
   "cell_type": "code",
   "execution_count": 98,
   "id": "9b54d7bc",
   "metadata": {},
   "outputs": [
    {
     "data": {
      "text/plain": [
       "{1: 'one',\n",
       " 2: 'two',\n",
       " 'A': ['asif', 'john', 'Maria'],\n",
       " 'B': ('Bat', 'cat', 'hat')}"
      ]
     },
     "execution_count": 98,
     "metadata": {},
     "output_type": "execute_result"
    }
   ],
   "source": [
    "mydict = {1:'one' , 2:'two' , 'A':['asif' , 'john' , 'Maria'], 'B':('Bat' , 'cat','hat')} \n",
    "mydict "
   ]
  },
  {
   "cell_type": "code",
   "execution_count": 99,
   "id": "f0a2b6ab",
   "metadata": {},
   "outputs": [
    {
     "data": {
      "text/plain": [
       "{'a': None, 'd': None, 'c': None, 'b': None}"
      ]
     },
     "execution_count": 99,
     "metadata": {},
     "output_type": "execute_result"
    }
   ],
   "source": [
    "keys = {'a' , 'b' , 'c' , 'd'} \n",
    "mydict3 = dict.fromkeys(keys) # Create a dictionary from a sequence of keys \n",
    "mydict3 "
   ]
  },
  {
   "cell_type": "code",
   "execution_count": 100,
   "id": "d3c598da",
   "metadata": {},
   "outputs": [
    {
     "data": {
      "text/plain": [
       "{'a': 10, 'd': 10, 'c': 10, 'b': 10}"
      ]
     },
     "execution_count": 100,
     "metadata": {},
     "output_type": "execute_result"
    }
   ],
   "source": [
    "keys = {'a' , 'b' , 'c' , 'd'} \n",
    "values=10\n",
    "mydict3 = dict.fromkeys(keys,values)  \n",
    "mydict3 "
   ]
  },
  {
   "cell_type": "code",
   "execution_count": 101,
   "id": "1d4a1137",
   "metadata": {},
   "outputs": [
    {
     "data": {
      "text/plain": [
       "{'a': [10, 20, 30], 'd': [10, 20, 30], 'c': [10, 20, 30], 'b': [10, 20, 30]}"
      ]
     },
     "execution_count": 101,
     "metadata": {},
     "output_type": "execute_result"
    }
   ],
   "source": [
    "keys = {'a' , 'b' , 'c' , 'd'} \n",
    "value = [10,20,30] \n",
    "mydict3 = dict.fromkeys(keys , value) # Create a dictionary from a sequence of \n",
    "mydict3 "
   ]
  },
  {
   "cell_type": "code",
   "execution_count": 102,
   "id": "bc836b89",
   "metadata": {},
   "outputs": [
    {
     "data": {
      "text/plain": [
       "{'a': [10, 20, 30, 40],\n",
       " 'd': [10, 20, 30, 40],\n",
       " 'c': [10, 20, 30, 40],\n",
       " 'b': [10, 20, 30, 40]}"
      ]
     },
     "execution_count": 102,
     "metadata": {},
     "output_type": "execute_result"
    }
   ],
   "source": [
    "value.append(40) \n",
    "mydict3 "
   ]
  },
  {
   "cell_type": "code",
   "execution_count": 103,
   "id": "d3b08a54",
   "metadata": {},
   "outputs": [
    {
     "data": {
      "text/plain": [
       "{1: 'one', 2: 'two', 3: 'three', 4: 'four'}"
      ]
     },
     "execution_count": 103,
     "metadata": {},
     "output_type": "execute_result"
    }
   ],
   "source": [
    "mydict = {1:'one' , 2:'two' , 3:'three' , 4:'four'} \n",
    "mydict "
   ]
  },
  {
   "cell_type": "code",
   "execution_count": 104,
   "id": "5fb79a81",
   "metadata": {},
   "outputs": [
    {
     "data": {
      "text/plain": [
       "'one'"
      ]
     },
     "execution_count": 104,
     "metadata": {},
     "output_type": "execute_result"
    }
   ],
   "source": [
    "mydict[1]"
   ]
  },
  {
   "cell_type": "code",
   "execution_count": 106,
   "id": "13a881bf",
   "metadata": {},
   "outputs": [
    {
     "data": {
      "text/plain": [
       "'one'"
      ]
     },
     "execution_count": 106,
     "metadata": {},
     "output_type": "execute_result"
    }
   ],
   "source": [
    "mydict.get(1)"
   ]
  },
  {
   "cell_type": "code",
   "execution_count": 107,
   "id": "e10b4856",
   "metadata": {},
   "outputs": [
    {
     "data": {
      "text/plain": [
       "'three'"
      ]
     },
     "execution_count": 107,
     "metadata": {},
     "output_type": "execute_result"
    }
   ],
   "source": [
    "mydict[3]"
   ]
  },
  {
   "cell_type": "code",
   "execution_count": 108,
   "id": "0015e41d",
   "metadata": {},
   "outputs": [
    {
     "data": {
      "text/plain": [
       "{'Name': 'Asif', 'ID': 74123, 'DOB': 1991, 'job': 'Analyst'}"
      ]
     },
     "execution_count": 108,
     "metadata": {},
     "output_type": "execute_result"
    }
   ],
   "source": [
    "mydict1 = {'Name':'Asif' , 'ID': 74123 , 'DOB': 1991 , 'job' :'Analyst'} \n",
    "mydict1 "
   ]
  },
  {
   "cell_type": "code",
   "execution_count": 109,
   "id": "93176990",
   "metadata": {},
   "outputs": [
    {
     "data": {
      "text/plain": [
       "'Asif'"
      ]
     },
     "execution_count": 109,
     "metadata": {},
     "output_type": "execute_result"
    }
   ],
   "source": [
    "mydict1['Name']"
   ]
  },
  {
   "cell_type": "code",
   "execution_count": 110,
   "id": "027d95b9",
   "metadata": {},
   "outputs": [
    {
     "data": {
      "text/plain": [
       "'Asif'"
      ]
     },
     "execution_count": 110,
     "metadata": {},
     "output_type": "execute_result"
    }
   ],
   "source": [
    "mydict1.get('Name')"
   ]
  },
  {
   "cell_type": "markdown",
   "id": "c0a2fd04",
   "metadata": {},
   "source": [
    "# Add, Remove & Change Items "
   ]
  },
  {
   "cell_type": "code",
   "execution_count": 114,
   "id": "538edb5f",
   "metadata": {},
   "outputs": [
    {
     "data": {
      "text/plain": [
       "{'Name': 'Asif', 'ID': 12345, 'DOB': 1991, 'Address': 'Hilsinki'}"
      ]
     },
     "execution_count": 114,
     "metadata": {},
     "output_type": "execute_result"
    }
   ],
   "source": [
    "mydict1 = {'Name':'Asif' , 'ID': 12345 , 'DOB': 1991 , 'Address' : 'Hilsinki'} \n",
    "mydict1 "
   ]
  },
  {
   "cell_type": "code",
   "execution_count": 116,
   "id": "05b61f53",
   "metadata": {},
   "outputs": [
    {
     "data": {
      "text/plain": [
       "{'Name': 'Asif', 'ID': 12345, 'DOB': 1992, 'Address': 'Delhi'}"
      ]
     },
     "execution_count": 116,
     "metadata": {},
     "output_type": "execute_result"
    }
   ],
   "source": [
    "mydict1['DOB']=1992\n",
    "mydict1['Address']= 'Delhi'\n",
    "mydict1"
   ]
  },
  {
   "cell_type": "code",
   "execution_count": 119,
   "id": "e6659f9b",
   "metadata": {},
   "outputs": [
    {
     "data": {
      "text/plain": [
       "{'Name': 'Asif', 'ID': 12345, 'DOB': 1995, 'Address': 'Delhi'}"
      ]
     },
     "execution_count": 119,
     "metadata": {},
     "output_type": "execute_result"
    }
   ],
   "source": [
    "dict1={'DOB': 1995}\n",
    "mydict1.update(dict1)\n",
    "mydict1"
   ]
  },
  {
   "cell_type": "code",
   "execution_count": 120,
   "id": "df2d8014",
   "metadata": {},
   "outputs": [
    {
     "data": {
      "text/plain": [
       "{'Name': 'Asif',\n",
       " 'ID': 12345,\n",
       " 'DOB': 1995,\n",
       " 'Address': 'Delhi',\n",
       " 'Job': 'Analyst'}"
      ]
     },
     "execution_count": 120,
     "metadata": {},
     "output_type": "execute_result"
    }
   ],
   "source": [
    "mydict1['Job'] = 'Analyst' # Adding items in the dictionary \n",
    "mydict1 "
   ]
  },
  {
   "cell_type": "code",
   "execution_count": 121,
   "id": "b23ae02a",
   "metadata": {},
   "outputs": [
    {
     "data": {
      "text/plain": [
       "{'Name': 'Asif', 'ID': 12345, 'DOB': 1995, 'Address': 'Delhi'}"
      ]
     },
     "execution_count": 121,
     "metadata": {},
     "output_type": "execute_result"
    }
   ],
   "source": [
    "mydict1.pop('Job') # Removing items in the dictionary using Pop method \n",
    "mydict1 "
   ]
  },
  {
   "cell_type": "code",
   "execution_count": 122,
   "id": "d2f4da0e",
   "metadata": {},
   "outputs": [
    {
     "data": {
      "text/plain": [
       "('Address', 'Delhi')"
      ]
     },
     "execution_count": 122,
     "metadata": {},
     "output_type": "execute_result"
    }
   ],
   "source": [
    "mydict1.popitem() "
   ]
  },
  {
   "cell_type": "code",
   "execution_count": 123,
   "id": "f1ff5ea2",
   "metadata": {},
   "outputs": [
    {
     "data": {
      "text/plain": [
       "{'Name': 'Asif', 'ID': 12345, 'DOB': 1995}"
      ]
     },
     "execution_count": 123,
     "metadata": {},
     "output_type": "execute_result"
    }
   ],
   "source": [
    "mydict1"
   ]
  },
  {
   "cell_type": "code",
   "execution_count": 124,
   "id": "aded8d7f",
   "metadata": {},
   "outputs": [
    {
     "data": {
      "text/plain": [
       "{'Name': 'Asif', 'DOB': 1995}"
      ]
     },
     "execution_count": 124,
     "metadata": {},
     "output_type": "execute_result"
    }
   ],
   "source": [
    "del[mydict1['ID']] # Removing item using del method \n",
    "mydict1 "
   ]
  },
  {
   "cell_type": "code",
   "execution_count": 125,
   "id": "f2966b64",
   "metadata": {},
   "outputs": [
    {
     "data": {
      "text/plain": [
       "{}"
      ]
     },
     "execution_count": 125,
     "metadata": {},
     "output_type": "execute_result"
    }
   ],
   "source": [
    "mydict1.clear() # Delete all items of the dictionary using clear method \n",
    "mydict1 "
   ]
  },
  {
   "cell_type": "code",
   "execution_count": 126,
   "id": "1abf3fb8",
   "metadata": {},
   "outputs": [
    {
     "data": {
      "text/plain": [
       "{'Name': 'Asif', 'ID': 12345, 'DOB': 1991, 'Address': 'Hilsinki'}"
      ]
     },
     "execution_count": 126,
     "metadata": {},
     "output_type": "execute_result"
    }
   ],
   "source": [
    "mydict = {'Name':'Asif' , 'ID': 12345 , 'DOB': 1991 , 'Address' : 'Hilsinki'} \n",
    "mydict "
   ]
  },
  {
   "cell_type": "code",
   "execution_count": 127,
   "id": "fd7c5e2a",
   "metadata": {},
   "outputs": [],
   "source": [
    "\n",
    "mydict1 = mydict "
   ]
  },
  {
   "cell_type": "code",
   "execution_count": 128,
   "id": "581c638d",
   "metadata": {},
   "outputs": [
    {
     "data": {
      "text/plain": [
       "{'Name': 'Asif', 'ID': 12345, 'DOB': 1991, 'Address': 'Hilsinki'}"
      ]
     },
     "execution_count": 128,
     "metadata": {},
     "output_type": "execute_result"
    }
   ],
   "source": [
    "mydict1"
   ]
  },
  {
   "cell_type": "code",
   "execution_count": 129,
   "id": "c2f892d3",
   "metadata": {},
   "outputs": [
    {
     "data": {
      "text/plain": [
       "2677375830016"
      ]
     },
     "execution_count": 129,
     "metadata": {},
     "output_type": "execute_result"
    }
   ],
   "source": [
    "id(mydict1)"
   ]
  },
  {
   "cell_type": "code",
   "execution_count": 130,
   "id": "50ed192a",
   "metadata": {},
   "outputs": [
    {
     "data": {
      "text/plain": [
       "2677375830016"
      ]
     },
     "execution_count": 130,
     "metadata": {},
     "output_type": "execute_result"
    }
   ],
   "source": [
    "id(mydict)"
   ]
  },
  {
   "cell_type": "code",
   "execution_count": 131,
   "id": "ff4d38e8",
   "metadata": {},
   "outputs": [],
   "source": [
    "mydict2 = mydict.copy()"
   ]
  },
  {
   "cell_type": "code",
   "execution_count": 132,
   "id": "12f05d45",
   "metadata": {},
   "outputs": [
    {
     "data": {
      "text/plain": [
       "{'Name': 'Asif', 'ID': 12345, 'DOB': 1991, 'Address': 'Hilsinki'}"
      ]
     },
     "execution_count": 132,
     "metadata": {},
     "output_type": "execute_result"
    }
   ],
   "source": [
    "mydict2"
   ]
  },
  {
   "cell_type": "code",
   "execution_count": 134,
   "id": "48b454ed",
   "metadata": {},
   "outputs": [],
   "source": [
    "mydict['Address'] = 'Mumbai'"
   ]
  },
  {
   "cell_type": "code",
   "execution_count": 135,
   "id": "79be67c7",
   "metadata": {},
   "outputs": [
    {
     "data": {
      "text/plain": [
       "{'Name': 'Asif', 'ID': 12345, 'DOB': 1991, 'Address': 'Mumbai'}"
      ]
     },
     "execution_count": 135,
     "metadata": {},
     "output_type": "execute_result"
    }
   ],
   "source": [
    "mydict\n"
   ]
  },
  {
   "cell_type": "code",
   "execution_count": 136,
   "id": "11a3299e",
   "metadata": {},
   "outputs": [
    {
     "data": {
      "text/plain": [
       "{'Name': 'Asif', 'ID': 12345, 'DOB': 1991, 'Address': 'Mumbai'}"
      ]
     },
     "execution_count": 136,
     "metadata": {},
     "output_type": "execute_result"
    }
   ],
   "source": [
    "mydict1"
   ]
  },
  {
   "cell_type": "code",
   "execution_count": 137,
   "id": "d025e3ab",
   "metadata": {},
   "outputs": [
    {
     "data": {
      "text/plain": [
       "{'Name': 'Asif', 'ID': 12345, 'DOB': 1991, 'Address': 'Hilsinki'}"
      ]
     },
     "execution_count": 137,
     "metadata": {},
     "output_type": "execute_result"
    }
   ],
   "source": [
    "mydict2"
   ]
  },
  {
   "cell_type": "code",
   "execution_count": 139,
   "id": "a17742c4",
   "metadata": {},
   "outputs": [
    {
     "data": {
      "text/plain": [
       "{'Name': 'Asif',\n",
       " 'ID': 12345,\n",
       " 'DOB': 1991,\n",
       " 'Address': 'Hilsinki',\n",
       " 'Job': 'Analyst'}"
      ]
     },
     "execution_count": 139,
     "metadata": {},
     "output_type": "execute_result"
    }
   ],
   "source": [
    "mydict1 = {'Name':'Asif' , 'ID': 12345 , 'DOB': 1991 , 'Address' : 'Hilsinki' , 'Job' : 'Analyst'}\n",
    "mydict1 "
   ]
  },
  {
   "cell_type": "code",
   "execution_count": 144,
   "id": "67f4c4a3",
   "metadata": {},
   "outputs": [
    {
     "name": "stdout",
     "output_type": "stream",
     "text": [
      "Name : Asif\n",
      "ID : 12345\n",
      "DOB : 1991\n",
      "Address : Hilsinki\n",
      "Job : Analyst\n"
     ]
    }
   ],
   "source": [
    "for i in mydict1:\n",
    "    print(i, ':' , mydict1[i]) "
   ]
  },
  {
   "cell_type": "code",
   "execution_count": 145,
   "id": "6fb0a25f",
   "metadata": {},
   "outputs": [
    {
     "name": "stdout",
     "output_type": "stream",
     "text": [
      "Asif\n",
      "12345\n",
      "1991\n",
      "Hilsinki\n",
      "Analyst\n"
     ]
    }
   ],
   "source": [
    "for i in mydict1:\n",
    "    print(mydict1[i])"
   ]
  },
  {
   "cell_type": "code",
   "execution_count": 146,
   "id": "63bf757b",
   "metadata": {},
   "outputs": [
    {
     "data": {
      "text/plain": [
       "{'Name': 'Asif',\n",
       " 'ID': 12345,\n",
       " 'DOB': 1991,\n",
       " 'Address': 'Hilsinki',\n",
       " 'Job': 'Analyst'}"
      ]
     },
     "execution_count": 146,
     "metadata": {},
     "output_type": "execute_result"
    }
   ],
   "source": [
    "mydict1"
   ]
  },
  {
   "cell_type": "code",
   "execution_count": 147,
   "id": "d7a5fce3",
   "metadata": {},
   "outputs": [
    {
     "data": {
      "text/plain": [
       "True"
      ]
     },
     "execution_count": 147,
     "metadata": {},
     "output_type": "execute_result"
    }
   ],
   "source": [
    "'Name' in mydict1"
   ]
  },
  {
   "cell_type": "code",
   "execution_count": 148,
   "id": "64eea7f5",
   "metadata": {},
   "outputs": [
    {
     "data": {
      "text/plain": [
       "False"
      ]
     },
     "execution_count": 148,
     "metadata": {},
     "output_type": "execute_result"
    }
   ],
   "source": [
    "'Asif' in mydict2 # Membership test can be only done for keys. "
   ]
  },
  {
   "cell_type": "code",
   "execution_count": 149,
   "id": "48deca83",
   "metadata": {},
   "outputs": [
    {
     "data": {
      "text/plain": [
       "{'Name': 'Asif',\n",
       " 'ID': 12345,\n",
       " 'DOB': 1991,\n",
       " 'Address': 'Hilsinki',\n",
       " 'Job': 'Analyst'}"
      ]
     },
     "execution_count": 149,
     "metadata": {},
     "output_type": "execute_result"
    }
   ],
   "source": [
    "mydict1"
   ]
  },
  {
   "cell_type": "code",
   "execution_count": 150,
   "id": "39c3de0a",
   "metadata": {},
   "outputs": [
    {
     "data": {
      "text/plain": [
       "True"
      ]
     },
     "execution_count": 150,
     "metadata": {},
     "output_type": "execute_result"
    }
   ],
   "source": [
    "all(mydict1)"
   ]
  },
  {
   "cell_type": "code",
   "execution_count": null,
   "id": "f7753d6a",
   "metadata": {},
   "outputs": [],
   "source": []
  }
 ],
 "metadata": {
  "kernelspec": {
   "display_name": "Python 3 (ipykernel)",
   "language": "python",
   "name": "python3"
  },
  "language_info": {
   "codemirror_mode": {
    "name": "ipython",
    "version": 3
   },
   "file_extension": ".py",
   "mimetype": "text/x-python",
   "name": "python",
   "nbconvert_exporter": "python",
   "pygments_lexer": "ipython3",
   "version": "3.9.12"
  }
 },
 "nbformat": 4,
 "nbformat_minor": 5
}
